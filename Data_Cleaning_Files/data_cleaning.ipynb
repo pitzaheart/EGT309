{
  "nbformat": 4,
  "nbformat_minor": 0,
  "metadata": {
    "colab": {
      "provenance": []
    },
    "kernelspec": {
      "name": "python3",
      "display_name": "Python 3"
    },
    "language_info": {
      "name": "python"
    }
  },
  "cells": [
    {
      "cell_type": "code",
      "execution_count": 2,
      "metadata": {
        "colab": {
          "base_uri": "https://localhost:8080/"
        },
        "id": "CnxzlMH_2VCI",
        "outputId": "bfbdf63e-8341-4d6c-8cf1-3b9a7276da61"
      },
      "outputs": [
        {
          "output_type": "stream",
          "name": "stdout",
          "text": [
            "Mounted at /content/drive\n"
          ]
        }
      ],
      "source": [
        "from google.colab import drive\n",
        "drive.mount('/content/drive')"
      ]
    },
    {
      "cell_type": "code",
      "source": [
        "import pandas as pd"
      ],
      "metadata": {
        "id": "hbDzfHH48byC"
      },
      "execution_count": 3,
      "outputs": []
    },
    {
      "cell_type": "code",
      "source": [
        "# Replace the path with the actual location in your Drive\n",
        "file_path = '/content/drive/MyDrive/ResaleflatpricesbasedonregistrationdatefromJan2017onwards.csv'\n",
        "data = pd.read_csv(file_path)\n",
        "\n",
        "print(data.head(10))\n"
      ],
      "metadata": {
        "colab": {
          "base_uri": "https://localhost:8080/"
        },
        "id": "OHLbxyCN8c6p",
        "outputId": "1e4e7dd7-6340-4c52-98a0-303a9036ddac"
      },
      "execution_count": 7,
      "outputs": [
        {
          "output_type": "stream",
          "name": "stdout",
          "text": [
            "     month        town flat_type block        street_name storey_range  \\\n",
            "0  2017-01  ANG MO KIO    2 ROOM   406  ANG MO KIO AVE 10     10 TO 12   \n",
            "1  2017-01  ANG MO KIO    3 ROOM   108   ANG MO KIO AVE 4     01 TO 03   \n",
            "2  2017-01  ANG MO KIO    3 ROOM   602   ANG MO KIO AVE 5     01 TO 03   \n",
            "3  2017-01  ANG MO KIO    3 ROOM   465  ANG MO KIO AVE 10     04 TO 06   \n",
            "4  2017-01  ANG MO KIO    3 ROOM   601   ANG MO KIO AVE 5     01 TO 03   \n",
            "5  2017-01  ANG MO KIO    3 ROOM   150   ANG MO KIO AVE 5     01 TO 03   \n",
            "6  2017-01  ANG MO KIO    3 ROOM   447  ANG MO KIO AVE 10     04 TO 06   \n",
            "7  2017-01  ANG MO KIO    3 ROOM   218   ANG MO KIO AVE 1     04 TO 06   \n",
            "8  2017-01  ANG MO KIO    3 ROOM   447  ANG MO KIO AVE 10     04 TO 06   \n",
            "9  2017-01  ANG MO KIO    3 ROOM   571   ANG MO KIO AVE 3     01 TO 03   \n",
            "\n",
            "   floor_area_sqm      flat_model  lease_commence_date     remaining_lease  \\\n",
            "0            44.0        Improved                 1979  61 years 04 months   \n",
            "1            67.0  New Generation                 1978  60 years 07 months   \n",
            "2            67.0  New Generation                 1980  62 years 05 months   \n",
            "3            68.0  New Generation                 1980   62 years 01 month   \n",
            "4            67.0  New Generation                 1980  62 years 05 months   \n",
            "5            68.0  New Generation                 1981            63 years   \n",
            "6            68.0  New Generation                 1979  61 years 06 months   \n",
            "7            67.0  New Generation                 1976  58 years 04 months   \n",
            "8            68.0  New Generation                 1979  61 years 06 months   \n",
            "9            67.0  New Generation                 1979  61 years 04 months   \n",
            "\n",
            "   resale_price  \n",
            "0      232000.0  \n",
            "1      250000.0  \n",
            "2      262000.0  \n",
            "3      265000.0  \n",
            "4      265000.0  \n",
            "5      275000.0  \n",
            "6      280000.0  \n",
            "7      285000.0  \n",
            "8      285000.0  \n",
            "9      285000.0  \n"
          ]
        }
      ]
    },
    {
      "cell_type": "code",
      "source": [
        "data.head()"
      ],
      "metadata": {
        "colab": {
          "base_uri": "https://localhost:8080/",
          "height": 293
        },
        "id": "sry3I9RpM4EH",
        "outputId": "f181dccc-946b-4cb4-b1ea-83f8627c6ae8"
      },
      "execution_count": 42,
      "outputs": [
        {
          "output_type": "execute_result",
          "data": {
            "text/plain": [
              "       Month        Town Flat_Type Block        Street_Name Storey_Range  \\\n",
              "0 2017-01-01  ANG MO KIO    2 Room   406  ANG MO KIO AVE 10     10 TO 12   \n",
              "1 2017-01-01  ANG MO KIO    3 Room   108   ANG MO KIO AVE 4     01 TO 03   \n",
              "2 2017-01-01  ANG MO KIO    3 Room   602   ANG MO KIO AVE 5     01 TO 03   \n",
              "3 2017-01-01  ANG MO KIO    3 Room   465  ANG MO KIO AVE 10     04 TO 06   \n",
              "4 2017-01-01  ANG MO KIO    3 Room   601   ANG MO KIO AVE 5     01 TO 03   \n",
              "\n",
              "   Floor_Area_SQM      Flat_Model  Lease_Commence_Date     Remaining_Lease  \\\n",
              "0            44.0        Improved                 1979  61 years 04 months   \n",
              "1            67.0  New Generation                 1978  60 years 07 months   \n",
              "2            67.0  New Generation                 1980  62 years 05 months   \n",
              "3            68.0  New Generation                 1980   62 years 01 month   \n",
              "4            67.0  New Generation                 1980  62 years 05 months   \n",
              "\n",
              "   Resale_Price  Remaining_Years  Average_Storey  \n",
              "0      232000.0               61            11.0  \n",
              "1      250000.0               60             2.0  \n",
              "2      262000.0               62             2.0  \n",
              "3      265000.0               62             5.0  \n",
              "4      265000.0               62             2.0  "
            ],
            "text/html": [
              "\n",
              "  <div id=\"df-2d4d0fe8-7db1-4ea0-89fa-062d36e690bd\" class=\"colab-df-container\">\n",
              "    <div>\n",
              "<style scoped>\n",
              "    .dataframe tbody tr th:only-of-type {\n",
              "        vertical-align: middle;\n",
              "    }\n",
              "\n",
              "    .dataframe tbody tr th {\n",
              "        vertical-align: top;\n",
              "    }\n",
              "\n",
              "    .dataframe thead th {\n",
              "        text-align: right;\n",
              "    }\n",
              "</style>\n",
              "<table border=\"1\" class=\"dataframe\">\n",
              "  <thead>\n",
              "    <tr style=\"text-align: right;\">\n",
              "      <th></th>\n",
              "      <th>Month</th>\n",
              "      <th>Town</th>\n",
              "      <th>Flat_Type</th>\n",
              "      <th>Block</th>\n",
              "      <th>Street_Name</th>\n",
              "      <th>Storey_Range</th>\n",
              "      <th>Floor_Area_SQM</th>\n",
              "      <th>Flat_Model</th>\n",
              "      <th>Lease_Commence_Date</th>\n",
              "      <th>Remaining_Lease</th>\n",
              "      <th>Resale_Price</th>\n",
              "      <th>Remaining_Years</th>\n",
              "      <th>Average_Storey</th>\n",
              "    </tr>\n",
              "  </thead>\n",
              "  <tbody>\n",
              "    <tr>\n",
              "      <th>0</th>\n",
              "      <td>2017-01-01</td>\n",
              "      <td>ANG MO KIO</td>\n",
              "      <td>2 Room</td>\n",
              "      <td>406</td>\n",
              "      <td>ANG MO KIO AVE 10</td>\n",
              "      <td>10 TO 12</td>\n",
              "      <td>44.0</td>\n",
              "      <td>Improved</td>\n",
              "      <td>1979</td>\n",
              "      <td>61 years 04 months</td>\n",
              "      <td>232000.0</td>\n",
              "      <td>61</td>\n",
              "      <td>11.0</td>\n",
              "    </tr>\n",
              "    <tr>\n",
              "      <th>1</th>\n",
              "      <td>2017-01-01</td>\n",
              "      <td>ANG MO KIO</td>\n",
              "      <td>3 Room</td>\n",
              "      <td>108</td>\n",
              "      <td>ANG MO KIO AVE 4</td>\n",
              "      <td>01 TO 03</td>\n",
              "      <td>67.0</td>\n",
              "      <td>New Generation</td>\n",
              "      <td>1978</td>\n",
              "      <td>60 years 07 months</td>\n",
              "      <td>250000.0</td>\n",
              "      <td>60</td>\n",
              "      <td>2.0</td>\n",
              "    </tr>\n",
              "    <tr>\n",
              "      <th>2</th>\n",
              "      <td>2017-01-01</td>\n",
              "      <td>ANG MO KIO</td>\n",
              "      <td>3 Room</td>\n",
              "      <td>602</td>\n",
              "      <td>ANG MO KIO AVE 5</td>\n",
              "      <td>01 TO 03</td>\n",
              "      <td>67.0</td>\n",
              "      <td>New Generation</td>\n",
              "      <td>1980</td>\n",
              "      <td>62 years 05 months</td>\n",
              "      <td>262000.0</td>\n",
              "      <td>62</td>\n",
              "      <td>2.0</td>\n",
              "    </tr>\n",
              "    <tr>\n",
              "      <th>3</th>\n",
              "      <td>2017-01-01</td>\n",
              "      <td>ANG MO KIO</td>\n",
              "      <td>3 Room</td>\n",
              "      <td>465</td>\n",
              "      <td>ANG MO KIO AVE 10</td>\n",
              "      <td>04 TO 06</td>\n",
              "      <td>68.0</td>\n",
              "      <td>New Generation</td>\n",
              "      <td>1980</td>\n",
              "      <td>62 years 01 month</td>\n",
              "      <td>265000.0</td>\n",
              "      <td>62</td>\n",
              "      <td>5.0</td>\n",
              "    </tr>\n",
              "    <tr>\n",
              "      <th>4</th>\n",
              "      <td>2017-01-01</td>\n",
              "      <td>ANG MO KIO</td>\n",
              "      <td>3 Room</td>\n",
              "      <td>601</td>\n",
              "      <td>ANG MO KIO AVE 5</td>\n",
              "      <td>01 TO 03</td>\n",
              "      <td>67.0</td>\n",
              "      <td>New Generation</td>\n",
              "      <td>1980</td>\n",
              "      <td>62 years 05 months</td>\n",
              "      <td>265000.0</td>\n",
              "      <td>62</td>\n",
              "      <td>2.0</td>\n",
              "    </tr>\n",
              "  </tbody>\n",
              "</table>\n",
              "</div>\n",
              "    <div class=\"colab-df-buttons\">\n",
              "\n",
              "  <div class=\"colab-df-container\">\n",
              "    <button class=\"colab-df-convert\" onclick=\"convertToInteractive('df-2d4d0fe8-7db1-4ea0-89fa-062d36e690bd')\"\n",
              "            title=\"Convert this dataframe to an interactive table.\"\n",
              "            style=\"display:none;\">\n",
              "\n",
              "  <svg xmlns=\"http://www.w3.org/2000/svg\" height=\"24px\" viewBox=\"0 -960 960 960\">\n",
              "    <path d=\"M120-120v-720h720v720H120Zm60-500h600v-160H180v160Zm220 220h160v-160H400v160Zm0 220h160v-160H400v160ZM180-400h160v-160H180v160Zm440 0h160v-160H620v160ZM180-180h160v-160H180v160Zm440 0h160v-160H620v160Z\"/>\n",
              "  </svg>\n",
              "    </button>\n",
              "\n",
              "  <style>\n",
              "    .colab-df-container {\n",
              "      display:flex;\n",
              "      gap: 12px;\n",
              "    }\n",
              "\n",
              "    .colab-df-convert {\n",
              "      background-color: #E8F0FE;\n",
              "      border: none;\n",
              "      border-radius: 50%;\n",
              "      cursor: pointer;\n",
              "      display: none;\n",
              "      fill: #1967D2;\n",
              "      height: 32px;\n",
              "      padding: 0 0 0 0;\n",
              "      width: 32px;\n",
              "    }\n",
              "\n",
              "    .colab-df-convert:hover {\n",
              "      background-color: #E2EBFA;\n",
              "      box-shadow: 0px 1px 2px rgba(60, 64, 67, 0.3), 0px 1px 3px 1px rgba(60, 64, 67, 0.15);\n",
              "      fill: #174EA6;\n",
              "    }\n",
              "\n",
              "    .colab-df-buttons div {\n",
              "      margin-bottom: 4px;\n",
              "    }\n",
              "\n",
              "    [theme=dark] .colab-df-convert {\n",
              "      background-color: #3B4455;\n",
              "      fill: #D2E3FC;\n",
              "    }\n",
              "\n",
              "    [theme=dark] .colab-df-convert:hover {\n",
              "      background-color: #434B5C;\n",
              "      box-shadow: 0px 1px 3px 1px rgba(0, 0, 0, 0.15);\n",
              "      filter: drop-shadow(0px 1px 2px rgba(0, 0, 0, 0.3));\n",
              "      fill: #FFFFFF;\n",
              "    }\n",
              "  </style>\n",
              "\n",
              "    <script>\n",
              "      const buttonEl =\n",
              "        document.querySelector('#df-2d4d0fe8-7db1-4ea0-89fa-062d36e690bd button.colab-df-convert');\n",
              "      buttonEl.style.display =\n",
              "        google.colab.kernel.accessAllowed ? 'block' : 'none';\n",
              "\n",
              "      async function convertToInteractive(key) {\n",
              "        const element = document.querySelector('#df-2d4d0fe8-7db1-4ea0-89fa-062d36e690bd');\n",
              "        const dataTable =\n",
              "          await google.colab.kernel.invokeFunction('convertToInteractive',\n",
              "                                                    [key], {});\n",
              "        if (!dataTable) return;\n",
              "\n",
              "        const docLinkHtml = 'Like what you see? Visit the ' +\n",
              "          '<a target=\"_blank\" href=https://colab.research.google.com/notebooks/data_table.ipynb>data table notebook</a>'\n",
              "          + ' to learn more about interactive tables.';\n",
              "        element.innerHTML = '';\n",
              "        dataTable['output_type'] = 'display_data';\n",
              "        await google.colab.output.renderOutput(dataTable, element);\n",
              "        const docLink = document.createElement('div');\n",
              "        docLink.innerHTML = docLinkHtml;\n",
              "        element.appendChild(docLink);\n",
              "      }\n",
              "    </script>\n",
              "  </div>\n",
              "\n",
              "\n",
              "<div id=\"df-de347abc-e91e-49a3-9144-92d97935955c\">\n",
              "  <button class=\"colab-df-quickchart\" onclick=\"quickchart('df-de347abc-e91e-49a3-9144-92d97935955c')\"\n",
              "            title=\"Suggest charts\"\n",
              "            style=\"display:none;\">\n",
              "\n",
              "<svg xmlns=\"http://www.w3.org/2000/svg\" height=\"24px\"viewBox=\"0 0 24 24\"\n",
              "     width=\"24px\">\n",
              "    <g>\n",
              "        <path d=\"M19 3H5c-1.1 0-2 .9-2 2v14c0 1.1.9 2 2 2h14c1.1 0 2-.9 2-2V5c0-1.1-.9-2-2-2zM9 17H7v-7h2v7zm4 0h-2V7h2v10zm4 0h-2v-4h2v4z\"/>\n",
              "    </g>\n",
              "</svg>\n",
              "  </button>\n",
              "\n",
              "<style>\n",
              "  .colab-df-quickchart {\n",
              "      --bg-color: #E8F0FE;\n",
              "      --fill-color: #1967D2;\n",
              "      --hover-bg-color: #E2EBFA;\n",
              "      --hover-fill-color: #174EA6;\n",
              "      --disabled-fill-color: #AAA;\n",
              "      --disabled-bg-color: #DDD;\n",
              "  }\n",
              "\n",
              "  [theme=dark] .colab-df-quickchart {\n",
              "      --bg-color: #3B4455;\n",
              "      --fill-color: #D2E3FC;\n",
              "      --hover-bg-color: #434B5C;\n",
              "      --hover-fill-color: #FFFFFF;\n",
              "      --disabled-bg-color: #3B4455;\n",
              "      --disabled-fill-color: #666;\n",
              "  }\n",
              "\n",
              "  .colab-df-quickchart {\n",
              "    background-color: var(--bg-color);\n",
              "    border: none;\n",
              "    border-radius: 50%;\n",
              "    cursor: pointer;\n",
              "    display: none;\n",
              "    fill: var(--fill-color);\n",
              "    height: 32px;\n",
              "    padding: 0;\n",
              "    width: 32px;\n",
              "  }\n",
              "\n",
              "  .colab-df-quickchart:hover {\n",
              "    background-color: var(--hover-bg-color);\n",
              "    box-shadow: 0 1px 2px rgba(60, 64, 67, 0.3), 0 1px 3px 1px rgba(60, 64, 67, 0.15);\n",
              "    fill: var(--button-hover-fill-color);\n",
              "  }\n",
              "\n",
              "  .colab-df-quickchart-complete:disabled,\n",
              "  .colab-df-quickchart-complete:disabled:hover {\n",
              "    background-color: var(--disabled-bg-color);\n",
              "    fill: var(--disabled-fill-color);\n",
              "    box-shadow: none;\n",
              "  }\n",
              "\n",
              "  .colab-df-spinner {\n",
              "    border: 2px solid var(--fill-color);\n",
              "    border-color: transparent;\n",
              "    border-bottom-color: var(--fill-color);\n",
              "    animation:\n",
              "      spin 1s steps(1) infinite;\n",
              "  }\n",
              "\n",
              "  @keyframes spin {\n",
              "    0% {\n",
              "      border-color: transparent;\n",
              "      border-bottom-color: var(--fill-color);\n",
              "      border-left-color: var(--fill-color);\n",
              "    }\n",
              "    20% {\n",
              "      border-color: transparent;\n",
              "      border-left-color: var(--fill-color);\n",
              "      border-top-color: var(--fill-color);\n",
              "    }\n",
              "    30% {\n",
              "      border-color: transparent;\n",
              "      border-left-color: var(--fill-color);\n",
              "      border-top-color: var(--fill-color);\n",
              "      border-right-color: var(--fill-color);\n",
              "    }\n",
              "    40% {\n",
              "      border-color: transparent;\n",
              "      border-right-color: var(--fill-color);\n",
              "      border-top-color: var(--fill-color);\n",
              "    }\n",
              "    60% {\n",
              "      border-color: transparent;\n",
              "      border-right-color: var(--fill-color);\n",
              "    }\n",
              "    80% {\n",
              "      border-color: transparent;\n",
              "      border-right-color: var(--fill-color);\n",
              "      border-bottom-color: var(--fill-color);\n",
              "    }\n",
              "    90% {\n",
              "      border-color: transparent;\n",
              "      border-bottom-color: var(--fill-color);\n",
              "    }\n",
              "  }\n",
              "</style>\n",
              "\n",
              "  <script>\n",
              "    async function quickchart(key) {\n",
              "      const quickchartButtonEl =\n",
              "        document.querySelector('#' + key + ' button');\n",
              "      quickchartButtonEl.disabled = true;  // To prevent multiple clicks.\n",
              "      quickchartButtonEl.classList.add('colab-df-spinner');\n",
              "      try {\n",
              "        const charts = await google.colab.kernel.invokeFunction(\n",
              "            'suggestCharts', [key], {});\n",
              "      } catch (error) {\n",
              "        console.error('Error during call to suggestCharts:', error);\n",
              "      }\n",
              "      quickchartButtonEl.classList.remove('colab-df-spinner');\n",
              "      quickchartButtonEl.classList.add('colab-df-quickchart-complete');\n",
              "    }\n",
              "    (() => {\n",
              "      let quickchartButtonEl =\n",
              "        document.querySelector('#df-de347abc-e91e-49a3-9144-92d97935955c button');\n",
              "      quickchartButtonEl.style.display =\n",
              "        google.colab.kernel.accessAllowed ? 'block' : 'none';\n",
              "    })();\n",
              "  </script>\n",
              "</div>\n",
              "\n",
              "    </div>\n",
              "  </div>\n"
            ],
            "application/vnd.google.colaboratory.intrinsic+json": {
              "type": "dataframe",
              "variable_name": "data"
            }
          },
          "metadata": {},
          "execution_count": 42
        }
      ]
    },
    {
      "cell_type": "code",
      "source": [
        "print(data.info())  # Summary of the DataFrame, including non-null counts\n",
        "print(data.isnull().sum())"
      ],
      "metadata": {
        "colab": {
          "base_uri": "https://localhost:8080/"
        },
        "id": "zAklz1Sj9Ll8",
        "outputId": "1e5f3d33-e552-491f-831e-39d1f312c95a"
      },
      "execution_count": 9,
      "outputs": [
        {
          "output_type": "stream",
          "name": "stdout",
          "text": [
            "<class 'pandas.core.frame.DataFrame'>\n",
            "RangeIndex: 171393 entries, 0 to 171392\n",
            "Data columns (total 11 columns):\n",
            " #   Column               Non-Null Count   Dtype  \n",
            "---  ------               --------------   -----  \n",
            " 0   month                171393 non-null  object \n",
            " 1   town                 171393 non-null  object \n",
            " 2   flat_type            171393 non-null  object \n",
            " 3   block                171393 non-null  object \n",
            " 4   street_name          171393 non-null  object \n",
            " 5   storey_range         171393 non-null  object \n",
            " 6   floor_area_sqm       171393 non-null  float64\n",
            " 7   flat_model           171393 non-null  object \n",
            " 8   lease_commence_date  171393 non-null  int64  \n",
            " 9   remaining_lease      171393 non-null  object \n",
            " 10  resale_price         171393 non-null  float64\n",
            "dtypes: float64(2), int64(1), object(8)\n",
            "memory usage: 14.4+ MB\n",
            "None\n",
            "month                  0\n",
            "town                   0\n",
            "flat_type              0\n",
            "block                  0\n",
            "street_name            0\n",
            "storey_range           0\n",
            "floor_area_sqm         0\n",
            "flat_model             0\n",
            "lease_commence_date    0\n",
            "remaining_lease        0\n",
            "resale_price           0\n",
            "dtype: int64\n"
          ]
        }
      ]
    },
    {
      "cell_type": "markdown",
      "source": [
        "Seems like there is no missing values"
      ],
      "metadata": {
        "id": "vFcQX_TC95fv"
      }
    },
    {
      "cell_type": "code",
      "source": [
        "# Find duplicate rows\n",
        "duplicates = data[data.duplicated(keep=False)]  # keep=False includes all occurrences of duplicates\n",
        "\n",
        "# Show the count of duplicate rows\n",
        "print(\"Number of Duplicate Rows:\", duplicates.shape[0])\n"
      ],
      "metadata": {
        "colab": {
          "base_uri": "https://localhost:8080/"
        },
        "id": "hwkAWHZq-K2z",
        "outputId": "310993f3-ef1a-4a32-ad66-0ee849cba7f0"
      },
      "execution_count": 18,
      "outputs": [
        {
          "output_type": "stream",
          "name": "stdout",
          "text": [
            "Number of Duplicate Rows: 564\n"
          ]
        }
      ]
    },
    {
      "cell_type": "code",
      "source": [
        "# Display the duplicate rows\n",
        "print(\"Total Duplicate Rows:\")\n",
        "print(duplicates)\n"
      ],
      "metadata": {
        "colab": {
          "base_uri": "https://localhost:8080/"
        },
        "id": "Lpv7pUZ-_66r",
        "outputId": "62ec726d-9bbe-4ba4-9520-400a713c6f3a"
      },
      "execution_count": 19,
      "outputs": [
        {
          "output_type": "stream",
          "name": "stdout",
          "text": [
            "Total Duplicate Rows:\n",
            "          month           town  flat_type block        street_name  \\\n",
            "224     2017-01    BUKIT MERAH     4 ROOM   106     HENDERSON CRES   \n",
            "243     2017-01    BUKIT MERAH     4 ROOM   106     HENDERSON CRES   \n",
            "304     2017-01   CENTRAL AREA     3 ROOM   271           QUEEN ST   \n",
            "305     2017-01   CENTRAL AREA     3 ROOM   271           QUEEN ST   \n",
            "505     2017-01    JURONG EAST     4 ROOM   265        TOH GUAN RD   \n",
            "...         ...            ...        ...   ...                ...   \n",
            "167582  2024-11  BUKIT PANJANG     5 ROOM   210           PETIR RD   \n",
            "169624  2024-12  BUKIT PANJANG  EXECUTIVE   650         SENJA LINK   \n",
            "169625  2024-12  BUKIT PANJANG  EXECUTIVE   650         SENJA LINK   \n",
            "170778  2024-12       TAMPINES     4 ROOM  612A  TAMPINES NTH DR 1   \n",
            "170785  2024-12       TAMPINES     4 ROOM  612A  TAMPINES NTH DR 1   \n",
            "\n",
            "       storey_range  floor_area_sqm         flat_model  lease_commence_date  \\\n",
            "224        07 TO 09            81.0           Improved                 1975   \n",
            "243        07 TO 09            81.0           Improved                 1975   \n",
            "304        16 TO 18            68.0           Improved                 1979   \n",
            "305        16 TO 18            68.0           Improved                 1979   \n",
            "505        04 TO 06           101.0            Model A                 1998   \n",
            "...             ...             ...                ...                  ...   \n",
            "167582     07 TO 09           122.0           Improved                 1988   \n",
            "169624     07 TO 09           130.0  Premium Apartment                 2001   \n",
            "169625     07 TO 09           130.0  Premium Apartment                 2001   \n",
            "170778     10 TO 12            93.0            Model A                 2020   \n",
            "170785     10 TO 12            93.0            Model A                 2020   \n",
            "\n",
            "           remaining_lease  resale_price  \n",
            "224               57 years      470000.0  \n",
            "243               57 years      470000.0  \n",
            "304     61 years 02 months      470000.0  \n",
            "305     61 years 02 months      470000.0  \n",
            "505     80 years 09 months      470000.0  \n",
            "...                    ...           ...  \n",
            "167582  62 years 08 months      650000.0  \n",
            "169624  75 years 11 months      790000.0  \n",
            "169625  75 years 11 months      790000.0  \n",
            "170778  94 years 11 months      780000.0  \n",
            "170785  94 years 11 months      780000.0  \n",
            "\n",
            "[564 rows x 11 columns]\n"
          ]
        }
      ]
    },
    {
      "cell_type": "markdown",
      "source": [
        "Seems like there is 564 Duplicate Data"
      ],
      "metadata": {
        "id": "CJlXe1XpAH2J"
      }
    },
    {
      "cell_type": "code",
      "source": [
        "# Remove all duplicates and keep only unique rows\n",
        "data_cleaned = data.drop_duplicates(keep='first')  # Keep the first occurrence of each duplicate\n",
        "\n",
        "# Display the cleaned data\n",
        "print(\"\\nCleaned Data (No Duplicates):\")\n",
        "print(data_cleaned)"
      ],
      "metadata": {
        "colab": {
          "base_uri": "https://localhost:8080/"
        },
        "id": "BlBCCdf9APm9",
        "outputId": "fef6b201-7d51-45ea-a7ec-89ababdc14cd"
      },
      "execution_count": 21,
      "outputs": [
        {
          "output_type": "stream",
          "name": "stdout",
          "text": [
            "\n",
            "Cleaned Data (No Duplicates):\n",
            "          month        town flat_type block        street_name storey_range  \\\n",
            "0       2017-01  ANG MO KIO    2 ROOM   406  ANG MO KIO AVE 10     10 TO 12   \n",
            "1       2017-01  ANG MO KIO    3 ROOM   108   ANG MO KIO AVE 4     01 TO 03   \n",
            "2       2017-01  ANG MO KIO    3 ROOM   602   ANG MO KIO AVE 5     01 TO 03   \n",
            "3       2017-01  ANG MO KIO    3 ROOM   465  ANG MO KIO AVE 10     04 TO 06   \n",
            "4       2017-01  ANG MO KIO    3 ROOM   601   ANG MO KIO AVE 5     01 TO 03   \n",
            "...         ...         ...       ...   ...                ...          ...   \n",
            "171388  2025-01      YISHUN    3 ROOM   210       YISHUN ST 21     04 TO 06   \n",
            "171389  2025-01      YISHUN    3 ROOM  468A       YISHUN ST 43     04 TO 06   \n",
            "171390  2025-01      YISHUN    4 ROOM   350      YISHUN AVE 11     04 TO 06   \n",
            "171391  2025-01      YISHUN    4 ROOM  430B      YISHUN AVE 11     07 TO 09   \n",
            "171392  2025-01      YISHUN    4 ROOM   139     YISHUN RING RD     01 TO 03   \n",
            "\n",
            "        floor_area_sqm      flat_model  lease_commence_date  \\\n",
            "0                 44.0        Improved                 1979   \n",
            "1                 67.0  New Generation                 1978   \n",
            "2                 67.0  New Generation                 1980   \n",
            "3                 68.0  New Generation                 1980   \n",
            "4                 67.0  New Generation                 1980   \n",
            "...                ...             ...                  ...   \n",
            "171388            67.0  New Generation                 1985   \n",
            "171389            67.0         Model A                 2019   \n",
            "171390           104.0         Model A                 1988   \n",
            "171391            92.0         Model A                 2015   \n",
            "171392            93.0  New Generation                 1984   \n",
            "\n",
            "           remaining_lease  resale_price  \n",
            "0       61 years 04 months      232000.0  \n",
            "1       60 years 07 months      250000.0  \n",
            "2       62 years 05 months      262000.0  \n",
            "3        62 years 01 month      265000.0  \n",
            "4       62 years 05 months      265000.0  \n",
            "...                    ...           ...  \n",
            "171388  59 years 10 months      423000.0  \n",
            "171389            94 years      460000.0  \n",
            "171390  62 years 09 months      558888.0  \n",
            "171391   90 years 01 month      590000.0  \n",
            "171392  58 years 10 months      525000.0  \n",
            "\n",
            "[171111 rows x 11 columns]\n"
          ]
        }
      ]
    },
    {
      "cell_type": "code",
      "source": [
        "# Display the cleaned dataset info\n",
        "print(data_cleaned.info())\n",
        "\n",
        "# Display the first few rows of the cleaned data\n",
        "print(data_cleaned.head())\n"
      ],
      "metadata": {
        "colab": {
          "base_uri": "https://localhost:8080/"
        },
        "id": "aq9jJAbVER2C",
        "outputId": "419a87c1-b5e9-44d8-ba72-7cf4f40267f2"
      },
      "execution_count": 24,
      "outputs": [
        {
          "output_type": "stream",
          "name": "stdout",
          "text": [
            "<class 'pandas.core.frame.DataFrame'>\n",
            "Index: 171111 entries, 0 to 171392\n",
            "Data columns (total 11 columns):\n",
            " #   Column               Non-Null Count   Dtype  \n",
            "---  ------               --------------   -----  \n",
            " 0   month                171111 non-null  object \n",
            " 1   town                 171111 non-null  object \n",
            " 2   flat_type            171111 non-null  object \n",
            " 3   block                171111 non-null  object \n",
            " 4   street_name          171111 non-null  object \n",
            " 5   storey_range         171111 non-null  object \n",
            " 6   floor_area_sqm       171111 non-null  float64\n",
            " 7   flat_model           171111 non-null  object \n",
            " 8   lease_commence_date  171111 non-null  int64  \n",
            " 9   remaining_lease      171111 non-null  object \n",
            " 10  resale_price         171111 non-null  float64\n",
            "dtypes: float64(2), int64(1), object(8)\n",
            "memory usage: 15.7+ MB\n",
            "None\n",
            "     month        town flat_type block        street_name storey_range  \\\n",
            "0  2017-01  ANG MO KIO    2 ROOM   406  ANG MO KIO AVE 10     10 TO 12   \n",
            "1  2017-01  ANG MO KIO    3 ROOM   108   ANG MO KIO AVE 4     01 TO 03   \n",
            "2  2017-01  ANG MO KIO    3 ROOM   602   ANG MO KIO AVE 5     01 TO 03   \n",
            "3  2017-01  ANG MO KIO    3 ROOM   465  ANG MO KIO AVE 10     04 TO 06   \n",
            "4  2017-01  ANG MO KIO    3 ROOM   601   ANG MO KIO AVE 5     01 TO 03   \n",
            "\n",
            "   floor_area_sqm      flat_model  lease_commence_date     remaining_lease  \\\n",
            "0            44.0        Improved                 1979  61 years 04 months   \n",
            "1            67.0  New Generation                 1978  60 years 07 months   \n",
            "2            67.0  New Generation                 1980  62 years 05 months   \n",
            "3            68.0  New Generation                 1980   62 years 01 month   \n",
            "4            67.0  New Generation                 1980  62 years 05 months   \n",
            "\n",
            "   resale_price  \n",
            "0      232000.0  \n",
            "1      250000.0  \n",
            "2      262000.0  \n",
            "3      265000.0  \n",
            "4      265000.0  \n"
          ]
        }
      ]
    },
    {
      "cell_type": "code",
      "source": [
        "data = data_cleaned.applymap(lambda x: x.strip() if isinstance(x, str) else x)"
      ],
      "metadata": {
        "colab": {
          "base_uri": "https://localhost:8080/"
        },
        "id": "AWVN0O2GFHif",
        "outputId": "c8531668-bd61-476d-bb53-c2e5850d8a79"
      },
      "execution_count": 29,
      "outputs": [
        {
          "output_type": "stream",
          "name": "stderr",
          "text": [
            "<ipython-input-29-c2333ce0439d>:1: FutureWarning: DataFrame.applymap has been deprecated. Use DataFrame.map instead.\n",
            "  data = data_cleaned.applymap(lambda x: x.strip() if isinstance(x, str) else x)\n"
          ]
        }
      ]
    },
    {
      "cell_type": "code",
      "source": [
        "data.rename(columns={\n",
        "    'month': 'Month',\n",
        "    'town': 'Town',\n",
        "    'flat_type': 'Flat_Type',\n",
        "    'block': 'Block',\n",
        "    'street_name': 'Street_Name',\n",
        "    'storey_range': 'Storey_Range',\n",
        "    'floor_area_sqm': 'Floor_Area_SQM',\n",
        "    'flat_model': 'Flat_Model',\n",
        "    'lease_commence_date': 'Lease_Commence_Date',\n",
        "    'remaining_lease': 'Remaining_Lease',\n",
        "    'resale_price': 'Resale_Price',\n",
        "\n",
        "}, inplace=True)\n"
      ],
      "metadata": {
        "id": "hYYWSvnrFTmo"
      },
      "execution_count": 34,
      "outputs": []
    },
    {
      "cell_type": "code",
      "source": [
        "data['Month'] = pd.to_datetime(data['Month'], format='%Y-%m')\n",
        "data['Floor_Area_SQM'] = data['Floor_Area_SQM'].astype(float)\n",
        "data['Flat_Type'] = data['Flat_Type'].str.title()\n"
      ],
      "metadata": {
        "id": "K4OwXkVPFcrH"
      },
      "execution_count": 35,
      "outputs": []
    },
    {
      "cell_type": "code",
      "source": [
        "def extract_years(lease):\n",
        "    if isinstance(lease, str) and 'year' in lease:\n",
        "        return int(lease.split(' ')[0])  # Extract the years\n",
        "    return None\n",
        "\n",
        "data['Remaining_Years'] = data['Remaining_Lease'].apply(extract_years)"
      ],
      "metadata": {
        "id": "eZ54Hl1TG3-T"
      },
      "execution_count": 39,
      "outputs": []
    },
    {
      "cell_type": "code",
      "source": [
        "def average_storey_range(storey):\n",
        "    if isinstance(storey, str) and \"TO\" in storey:\n",
        "        start, end = map(int, storey.split(\" TO \"))\n",
        "        return (start + end) / 2\n",
        "    return None\n",
        "\n",
        "data['Average_Storey'] = data['Storey_Range'].apply(average_storey_range)"
      ],
      "metadata": {
        "id": "5wMZIOQEG7Bu"
      },
      "execution_count": 40,
      "outputs": []
    },
    {
      "cell_type": "code",
      "source": [
        "print(data.head())"
      ],
      "metadata": {
        "colab": {
          "base_uri": "https://localhost:8080/"
        },
        "id": "QDw1KUZmGYKT",
        "outputId": "51b4172f-0930-4a50-ef8a-8a66c834f768"
      },
      "execution_count": 41,
      "outputs": [
        {
          "output_type": "stream",
          "name": "stdout",
          "text": [
            "       Month        Town Flat_Type Block        Street_Name Storey_Range  \\\n",
            "0 2017-01-01  ANG MO KIO    2 Room   406  ANG MO KIO AVE 10     10 TO 12   \n",
            "1 2017-01-01  ANG MO KIO    3 Room   108   ANG MO KIO AVE 4     01 TO 03   \n",
            "2 2017-01-01  ANG MO KIO    3 Room   602   ANG MO KIO AVE 5     01 TO 03   \n",
            "3 2017-01-01  ANG MO KIO    3 Room   465  ANG MO KIO AVE 10     04 TO 06   \n",
            "4 2017-01-01  ANG MO KIO    3 Room   601   ANG MO KIO AVE 5     01 TO 03   \n",
            "\n",
            "   Floor_Area_SQM      Flat_Model  Lease_Commence_Date     Remaining_Lease  \\\n",
            "0            44.0        Improved                 1979  61 years 04 months   \n",
            "1            67.0  New Generation                 1978  60 years 07 months   \n",
            "2            67.0  New Generation                 1980  62 years 05 months   \n",
            "3            68.0  New Generation                 1980   62 years 01 month   \n",
            "4            67.0  New Generation                 1980  62 years 05 months   \n",
            "\n",
            "   Resale_Price  Remaining_Years  Average_Storey  \n",
            "0      232000.0               61            11.0  \n",
            "1      250000.0               60             2.0  \n",
            "2      262000.0               62             2.0  \n",
            "3      265000.0               62             5.0  \n",
            "4      265000.0               62             2.0  \n"
          ]
        }
      ]
    },
    {
      "cell_type": "code",
      "source": [
        "data.to_csv('cleaned_resale_data.csv', index=False)\n"
      ],
      "metadata": {
        "id": "aLCM5T3aN0l0"
      },
      "execution_count": 43,
      "outputs": []
    }
  ]
}