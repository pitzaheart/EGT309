{
  "cells": [
    {
      "cell_type": "code",
      "execution_count": 4,
      "metadata": {
        "colab": {
          "base_uri": "https://localhost:8080/"
        },
        "id": "CnxzlMH_2VCI",
        "outputId": "bfbdf63e-8341-4d6c-8cf1-3b9a7276da61"
      },
      "outputs": [
        {
          "name": "stdout",
          "output_type": "stream",
          "text": [
            "Collecting pandas\n",
            "  Downloading pandas-2.2.3-cp39-cp39-win_amd64.whl (11.6 MB)\n",
            "Collecting tzdata>=2022.7\n",
            "  Downloading tzdata-2024.2-py2.py3-none-any.whl (346 kB)\n",
            "Requirement already satisfied: python-dateutil>=2.8.2 in c:\\users\\scryo\\appdata\\roaming\\python\\python39\\site-packages (from pandas) (2.9.0.post0)\n",
            "Collecting numpy>=1.22.4\n",
            "  Downloading numpy-2.0.2-cp39-cp39-win_amd64.whl (15.9 MB)\n",
            "Collecting pytz>=2020.1\n",
            "  Downloading pytz-2024.2-py2.py3-none-any.whl (508 kB)\n",
            "Requirement already satisfied: six>=1.5 in c:\\users\\scryo\\appdata\\roaming\\python\\python39\\site-packages (from python-dateutil>=2.8.2->pandas) (1.17.0)\n",
            "Installing collected packages: tzdata, pytz, numpy, pandas\n",
            "Successfully installed numpy-2.0.2 pandas-2.2.3 pytz-2024.2 tzdata-2024.2\n",
            "Note: you may need to restart the kernel to use updated packages.\n"
          ]
        },
        {
          "name": "stderr",
          "output_type": "stream",
          "text": [
            "  WARNING: The scripts f2py.exe and numpy-config.exe are installed in 'c:\\Users\\scryo\\AppData\\Local\\Programs\\Python\\Python39\\Scripts' which is not on PATH.\n",
            "  Consider adding this directory to PATH or, if you prefer to suppress this warning, use --no-warn-script-location.\n",
            "WARNING: You are using pip version 21.2.4; however, version 24.3.1 is available.\n",
            "You should consider upgrading via the 'c:\\Users\\scryo\\AppData\\Local\\Programs\\Python\\Python39\\python.exe -m pip install --upgrade pip' command.\n"
          ]
        }
      ],
      "source": [
        "pip install pandas "
      ]
    },
    {
      "cell_type": "code",
      "execution_count": 5,
      "metadata": {
        "id": "hbDzfHH48byC"
      },
      "outputs": [],
      "source": [
        "import pandas as pd"
      ]
    },
    {
      "cell_type": "code",
      "execution_count": 7,
      "metadata": {
        "colab": {
          "base_uri": "https://localhost:8080/"
        },
        "id": "OHLbxyCN8c6p",
        "outputId": "1e4e7dd7-6340-4c52-98a0-303a9036ddac"
      },
      "outputs": [
        {
          "name": "stdout",
          "output_type": "stream",
          "text": [
            "     month        town flat_type block        street_name storey_range  \\\n",
            "0  2017-01  ANG MO KIO    2 ROOM   406  ANG MO KIO AVE 10     10 TO 12   \n",
            "1  2017-01  ANG MO KIO    3 ROOM   108   ANG MO KIO AVE 4     01 TO 03   \n",
            "2  2017-01  ANG MO KIO    3 ROOM   602   ANG MO KIO AVE 5     01 TO 03   \n",
            "3  2017-01  ANG MO KIO    3 ROOM   465  ANG MO KIO AVE 10     04 TO 06   \n",
            "4  2017-01  ANG MO KIO    3 ROOM   601   ANG MO KIO AVE 5     01 TO 03   \n",
            "5  2017-01  ANG MO KIO    3 ROOM   150   ANG MO KIO AVE 5     01 TO 03   \n",
            "6  2017-01  ANG MO KIO    3 ROOM   447  ANG MO KIO AVE 10     04 TO 06   \n",
            "7  2017-01  ANG MO KIO    3 ROOM   218   ANG MO KIO AVE 1     04 TO 06   \n",
            "8  2017-01  ANG MO KIO    3 ROOM   447  ANG MO KIO AVE 10     04 TO 06   \n",
            "9  2017-01  ANG MO KIO    3 ROOM   571   ANG MO KIO AVE 3     01 TO 03   \n",
            "\n",
            "   floor_area_sqm      flat_model  lease_commence_date     remaining_lease  \\\n",
            "0            44.0        Improved                 1979  61 years 04 months   \n",
            "1            67.0  New Generation                 1978  60 years 07 months   \n",
            "2            67.0  New Generation                 1980  62 years 05 months   \n",
            "3            68.0  New Generation                 1980   62 years 01 month   \n",
            "4            67.0  New Generation                 1980  62 years 05 months   \n",
            "5            68.0  New Generation                 1981            63 years   \n",
            "6            68.0  New Generation                 1979  61 years 06 months   \n",
            "7            67.0  New Generation                 1976  58 years 04 months   \n",
            "8            68.0  New Generation                 1979  61 years 06 months   \n",
            "9            67.0  New Generation                 1979  61 years 04 months   \n",
            "\n",
            "   resale_price  \n",
            "0      232000.0  \n",
            "1      250000.0  \n",
            "2      262000.0  \n",
            "3      265000.0  \n",
            "4      265000.0  \n",
            "5      275000.0  \n",
            "6      280000.0  \n",
            "7      285000.0  \n",
            "8      285000.0  \n",
            "9      285000.0  \n"
          ]
        }
      ],
      "source": [
        "# Replace the path with the actual location in your Drive\n",
        "file_path = r'C:\\Users\\scryo\\EGT309\\Data_Cleaning_Files\\ResaleflatpricesbasedonregistrationdatefromJan2017onwards.csv'\n",
        "data = pd.read_csv(file_path)\n",
        "\n",
        "print(data.head(10))\n"
      ]
    },
    {
      "cell_type": "code",
      "execution_count": 8,
      "metadata": {
        "colab": {
          "base_uri": "https://localhost:8080/",
          "height": 293
        },
        "id": "sry3I9RpM4EH",
        "outputId": "f181dccc-946b-4cb4-b1ea-83f8627c6ae8"
      },
      "outputs": [
        {
          "data": {
            "text/html": [
              "<div>\n",
              "<style scoped>\n",
              "    .dataframe tbody tr th:only-of-type {\n",
              "        vertical-align: middle;\n",
              "    }\n",
              "\n",
              "    .dataframe tbody tr th {\n",
              "        vertical-align: top;\n",
              "    }\n",
              "\n",
              "    .dataframe thead th {\n",
              "        text-align: right;\n",
              "    }\n",
              "</style>\n",
              "<table border=\"1\" class=\"dataframe\">\n",
              "  <thead>\n",
              "    <tr style=\"text-align: right;\">\n",
              "      <th></th>\n",
              "      <th>month</th>\n",
              "      <th>town</th>\n",
              "      <th>flat_type</th>\n",
              "      <th>block</th>\n",
              "      <th>street_name</th>\n",
              "      <th>storey_range</th>\n",
              "      <th>floor_area_sqm</th>\n",
              "      <th>flat_model</th>\n",
              "      <th>lease_commence_date</th>\n",
              "      <th>remaining_lease</th>\n",
              "      <th>resale_price</th>\n",
              "    </tr>\n",
              "  </thead>\n",
              "  <tbody>\n",
              "    <tr>\n",
              "      <th>0</th>\n",
              "      <td>2017-01</td>\n",
              "      <td>ANG MO KIO</td>\n",
              "      <td>2 ROOM</td>\n",
              "      <td>406</td>\n",
              "      <td>ANG MO KIO AVE 10</td>\n",
              "      <td>10 TO 12</td>\n",
              "      <td>44.0</td>\n",
              "      <td>Improved</td>\n",
              "      <td>1979</td>\n",
              "      <td>61 years 04 months</td>\n",
              "      <td>232000.0</td>\n",
              "    </tr>\n",
              "    <tr>\n",
              "      <th>1</th>\n",
              "      <td>2017-01</td>\n",
              "      <td>ANG MO KIO</td>\n",
              "      <td>3 ROOM</td>\n",
              "      <td>108</td>\n",
              "      <td>ANG MO KIO AVE 4</td>\n",
              "      <td>01 TO 03</td>\n",
              "      <td>67.0</td>\n",
              "      <td>New Generation</td>\n",
              "      <td>1978</td>\n",
              "      <td>60 years 07 months</td>\n",
              "      <td>250000.0</td>\n",
              "    </tr>\n",
              "    <tr>\n",
              "      <th>2</th>\n",
              "      <td>2017-01</td>\n",
              "      <td>ANG MO KIO</td>\n",
              "      <td>3 ROOM</td>\n",
              "      <td>602</td>\n",
              "      <td>ANG MO KIO AVE 5</td>\n",
              "      <td>01 TO 03</td>\n",
              "      <td>67.0</td>\n",
              "      <td>New Generation</td>\n",
              "      <td>1980</td>\n",
              "      <td>62 years 05 months</td>\n",
              "      <td>262000.0</td>\n",
              "    </tr>\n",
              "    <tr>\n",
              "      <th>3</th>\n",
              "      <td>2017-01</td>\n",
              "      <td>ANG MO KIO</td>\n",
              "      <td>3 ROOM</td>\n",
              "      <td>465</td>\n",
              "      <td>ANG MO KIO AVE 10</td>\n",
              "      <td>04 TO 06</td>\n",
              "      <td>68.0</td>\n",
              "      <td>New Generation</td>\n",
              "      <td>1980</td>\n",
              "      <td>62 years 01 month</td>\n",
              "      <td>265000.0</td>\n",
              "    </tr>\n",
              "    <tr>\n",
              "      <th>4</th>\n",
              "      <td>2017-01</td>\n",
              "      <td>ANG MO KIO</td>\n",
              "      <td>3 ROOM</td>\n",
              "      <td>601</td>\n",
              "      <td>ANG MO KIO AVE 5</td>\n",
              "      <td>01 TO 03</td>\n",
              "      <td>67.0</td>\n",
              "      <td>New Generation</td>\n",
              "      <td>1980</td>\n",
              "      <td>62 years 05 months</td>\n",
              "      <td>265000.0</td>\n",
              "    </tr>\n",
              "  </tbody>\n",
              "</table>\n",
              "</div>"
            ],
            "text/plain": [
              "     month        town flat_type block        street_name storey_range  \\\n",
              "0  2017-01  ANG MO KIO    2 ROOM   406  ANG MO KIO AVE 10     10 TO 12   \n",
              "1  2017-01  ANG MO KIO    3 ROOM   108   ANG MO KIO AVE 4     01 TO 03   \n",
              "2  2017-01  ANG MO KIO    3 ROOM   602   ANG MO KIO AVE 5     01 TO 03   \n",
              "3  2017-01  ANG MO KIO    3 ROOM   465  ANG MO KIO AVE 10     04 TO 06   \n",
              "4  2017-01  ANG MO KIO    3 ROOM   601   ANG MO KIO AVE 5     01 TO 03   \n",
              "\n",
              "   floor_area_sqm      flat_model  lease_commence_date     remaining_lease  \\\n",
              "0            44.0        Improved                 1979  61 years 04 months   \n",
              "1            67.0  New Generation                 1978  60 years 07 months   \n",
              "2            67.0  New Generation                 1980  62 years 05 months   \n",
              "3            68.0  New Generation                 1980   62 years 01 month   \n",
              "4            67.0  New Generation                 1980  62 years 05 months   \n",
              "\n",
              "   resale_price  \n",
              "0      232000.0  \n",
              "1      250000.0  \n",
              "2      262000.0  \n",
              "3      265000.0  \n",
              "4      265000.0  "
            ]
          },
          "execution_count": 8,
          "metadata": {},
          "output_type": "execute_result"
        }
      ],
      "source": [
        "data.head()"
      ]
    },
    {
      "cell_type": "code",
      "execution_count": 9,
      "metadata": {
        "colab": {
          "base_uri": "https://localhost:8080/"
        },
        "id": "zAklz1Sj9Ll8",
        "outputId": "1e5f3d33-e552-491f-831e-39d1f312c95a"
      },
      "outputs": [
        {
          "name": "stdout",
          "output_type": "stream",
          "text": [
            "<class 'pandas.core.frame.DataFrame'>\n",
            "RangeIndex: 171393 entries, 0 to 171392\n",
            "Data columns (total 11 columns):\n",
            " #   Column               Non-Null Count   Dtype  \n",
            "---  ------               --------------   -----  \n",
            " 0   month                171393 non-null  object \n",
            " 1   town                 171393 non-null  object \n",
            " 2   flat_type            171393 non-null  object \n",
            " 3   block                171393 non-null  object \n",
            " 4   street_name          171393 non-null  object \n",
            " 5   storey_range         171393 non-null  object \n",
            " 6   floor_area_sqm       171393 non-null  float64\n",
            " 7   flat_model           171393 non-null  object \n",
            " 8   lease_commence_date  171393 non-null  int64  \n",
            " 9   remaining_lease      171393 non-null  object \n",
            " 10  resale_price         171393 non-null  float64\n",
            "dtypes: float64(2), int64(1), object(8)\n",
            "memory usage: 14.4+ MB\n",
            "None\n",
            "month                  0\n",
            "town                   0\n",
            "flat_type              0\n",
            "block                  0\n",
            "street_name            0\n",
            "storey_range           0\n",
            "floor_area_sqm         0\n",
            "flat_model             0\n",
            "lease_commence_date    0\n",
            "remaining_lease        0\n",
            "resale_price           0\n",
            "dtype: int64\n"
          ]
        }
      ],
      "source": [
        "print(data.info())  # Summary of the DataFrame, including non-null counts\n",
        "print(data.isnull().sum())"
      ]
    },
    {
      "cell_type": "markdown",
      "metadata": {
        "id": "vFcQX_TC95fv"
      },
      "source": [
        "Seems like there is no missing values"
      ]
    },
    {
      "cell_type": "code",
      "execution_count": 10,
      "metadata": {
        "colab": {
          "base_uri": "https://localhost:8080/"
        },
        "id": "hwkAWHZq-K2z",
        "outputId": "310993f3-ef1a-4a32-ad66-0ee849cba7f0"
      },
      "outputs": [
        {
          "name": "stdout",
          "output_type": "stream",
          "text": [
            "Number of Duplicate Rows: 564\n"
          ]
        }
      ],
      "source": [
        "# Find duplicate rows\n",
        "duplicates = data[data.duplicated(keep=False)]  # keep=False includes all occurrences of duplicates\n",
        "\n",
        "# Show the count of duplicate rows\n",
        "print(\"Number of Duplicate Rows:\", duplicates.shape[0])\n"
      ]
    },
    {
      "cell_type": "code",
      "execution_count": 11,
      "metadata": {
        "colab": {
          "base_uri": "https://localhost:8080/"
        },
        "id": "Lpv7pUZ-_66r",
        "outputId": "62ec726d-9bbe-4ba4-9520-400a713c6f3a"
      },
      "outputs": [
        {
          "name": "stdout",
          "output_type": "stream",
          "text": [
            "Total Duplicate Rows:\n",
            "          month           town  flat_type block        street_name  \\\n",
            "224     2017-01    BUKIT MERAH     4 ROOM   106     HENDERSON CRES   \n",
            "243     2017-01    BUKIT MERAH     4 ROOM   106     HENDERSON CRES   \n",
            "304     2017-01   CENTRAL AREA     3 ROOM   271           QUEEN ST   \n",
            "305     2017-01   CENTRAL AREA     3 ROOM   271           QUEEN ST   \n",
            "505     2017-01    JURONG EAST     4 ROOM   265        TOH GUAN RD   \n",
            "...         ...            ...        ...   ...                ...   \n",
            "167582  2024-11  BUKIT PANJANG     5 ROOM   210           PETIR RD   \n",
            "169624  2024-12  BUKIT PANJANG  EXECUTIVE   650         SENJA LINK   \n",
            "169625  2024-12  BUKIT PANJANG  EXECUTIVE   650         SENJA LINK   \n",
            "170778  2024-12       TAMPINES     4 ROOM  612A  TAMPINES NTH DR 1   \n",
            "170785  2024-12       TAMPINES     4 ROOM  612A  TAMPINES NTH DR 1   \n",
            "\n",
            "       storey_range  floor_area_sqm         flat_model  lease_commence_date  \\\n",
            "224        07 TO 09            81.0           Improved                 1975   \n",
            "243        07 TO 09            81.0           Improved                 1975   \n",
            "304        16 TO 18            68.0           Improved                 1979   \n",
            "305        16 TO 18            68.0           Improved                 1979   \n",
            "505        04 TO 06           101.0            Model A                 1998   \n",
            "...             ...             ...                ...                  ...   \n",
            "167582     07 TO 09           122.0           Improved                 1988   \n",
            "169624     07 TO 09           130.0  Premium Apartment                 2001   \n",
            "169625     07 TO 09           130.0  Premium Apartment                 2001   \n",
            "170778     10 TO 12            93.0            Model A                 2020   \n",
            "170785     10 TO 12            93.0            Model A                 2020   \n",
            "\n",
            "           remaining_lease  resale_price  \n",
            "224               57 years      470000.0  \n",
            "243               57 years      470000.0  \n",
            "304     61 years 02 months      470000.0  \n",
            "305     61 years 02 months      470000.0  \n",
            "505     80 years 09 months      470000.0  \n",
            "...                    ...           ...  \n",
            "167582  62 years 08 months      650000.0  \n",
            "169624  75 years 11 months      790000.0  \n",
            "169625  75 years 11 months      790000.0  \n",
            "170778  94 years 11 months      780000.0  \n",
            "170785  94 years 11 months      780000.0  \n",
            "\n",
            "[564 rows x 11 columns]\n"
          ]
        }
      ],
      "source": [
        "# Display the duplicate rows\n",
        "print(\"Total Duplicate Rows:\")\n",
        "print(duplicates)\n"
      ]
    },
    {
      "cell_type": "markdown",
      "metadata": {
        "id": "CJlXe1XpAH2J"
      },
      "source": [
        "Seems like there is 564 Duplicate Data"
      ]
    },
    {
      "cell_type": "code",
      "execution_count": 12,
      "metadata": {
        "colab": {
          "base_uri": "https://localhost:8080/"
        },
        "id": "BlBCCdf9APm9",
        "outputId": "fef6b201-7d51-45ea-a7ec-89ababdc14cd"
      },
      "outputs": [
        {
          "name": "stdout",
          "output_type": "stream",
          "text": [
            "\n",
            "Cleaned Data (No Duplicates):\n",
            "          month        town flat_type block        street_name storey_range  \\\n",
            "0       2017-01  ANG MO KIO    2 ROOM   406  ANG MO KIO AVE 10     10 TO 12   \n",
            "1       2017-01  ANG MO KIO    3 ROOM   108   ANG MO KIO AVE 4     01 TO 03   \n",
            "2       2017-01  ANG MO KIO    3 ROOM   602   ANG MO KIO AVE 5     01 TO 03   \n",
            "3       2017-01  ANG MO KIO    3 ROOM   465  ANG MO KIO AVE 10     04 TO 06   \n",
            "4       2017-01  ANG MO KIO    3 ROOM   601   ANG MO KIO AVE 5     01 TO 03   \n",
            "...         ...         ...       ...   ...                ...          ...   \n",
            "171388  2025-01      YISHUN    3 ROOM   210       YISHUN ST 21     04 TO 06   \n",
            "171389  2025-01      YISHUN    3 ROOM  468A       YISHUN ST 43     04 TO 06   \n",
            "171390  2025-01      YISHUN    4 ROOM   350      YISHUN AVE 11     04 TO 06   \n",
            "171391  2025-01      YISHUN    4 ROOM  430B      YISHUN AVE 11     07 TO 09   \n",
            "171392  2025-01      YISHUN    4 ROOM   139     YISHUN RING RD     01 TO 03   \n",
            "\n",
            "        floor_area_sqm      flat_model  lease_commence_date  \\\n",
            "0                 44.0        Improved                 1979   \n",
            "1                 67.0  New Generation                 1978   \n",
            "2                 67.0  New Generation                 1980   \n",
            "3                 68.0  New Generation                 1980   \n",
            "4                 67.0  New Generation                 1980   \n",
            "...                ...             ...                  ...   \n",
            "171388            67.0  New Generation                 1985   \n",
            "171389            67.0         Model A                 2019   \n",
            "171390           104.0         Model A                 1988   \n",
            "171391            92.0         Model A                 2015   \n",
            "171392            93.0  New Generation                 1984   \n",
            "\n",
            "           remaining_lease  resale_price  \n",
            "0       61 years 04 months      232000.0  \n",
            "1       60 years 07 months      250000.0  \n",
            "2       62 years 05 months      262000.0  \n",
            "3        62 years 01 month      265000.0  \n",
            "4       62 years 05 months      265000.0  \n",
            "...                    ...           ...  \n",
            "171388  59 years 10 months      423000.0  \n",
            "171389            94 years      460000.0  \n",
            "171390  62 years 09 months      558888.0  \n",
            "171391   90 years 01 month      590000.0  \n",
            "171392  58 years 10 months      525000.0  \n",
            "\n",
            "[171111 rows x 11 columns]\n"
          ]
        }
      ],
      "source": [
        "# Remove all duplicates and keep only unique rows\n",
        "data_cleaned = data.drop_duplicates(keep='first')  # Keep the first occurrence of each duplicate\n",
        "\n",
        "# Display the cleaned data\n",
        "print(\"\\nCleaned Data (No Duplicates):\")\n",
        "print(data_cleaned)"
      ]
    },
    {
      "cell_type": "code",
      "execution_count": 24,
      "metadata": {
        "colab": {
          "base_uri": "https://localhost:8080/"
        },
        "id": "aq9jJAbVER2C",
        "outputId": "419a87c1-b5e9-44d8-ba72-7cf4f40267f2"
      },
      "outputs": [
        {
          "name": "stdout",
          "output_type": "stream",
          "text": [
            "<class 'pandas.core.frame.DataFrame'>\n",
            "Index: 171111 entries, 0 to 171392\n",
            "Data columns (total 11 columns):\n",
            " #   Column               Non-Null Count   Dtype  \n",
            "---  ------               --------------   -----  \n",
            " 0   month                171111 non-null  object \n",
            " 1   town                 171111 non-null  object \n",
            " 2   flat_type            171111 non-null  object \n",
            " 3   block                171111 non-null  object \n",
            " 4   street_name          171111 non-null  object \n",
            " 5   storey_range         171111 non-null  object \n",
            " 6   floor_area_sqm       171111 non-null  float64\n",
            " 7   flat_model           171111 non-null  object \n",
            " 8   lease_commence_date  171111 non-null  int64  \n",
            " 9   remaining_lease      171111 non-null  object \n",
            " 10  resale_price         171111 non-null  float64\n",
            "dtypes: float64(2), int64(1), object(8)\n",
            "memory usage: 15.7+ MB\n",
            "None\n",
            "     month        town flat_type block        street_name storey_range  \\\n",
            "0  2017-01  ANG MO KIO    2 ROOM   406  ANG MO KIO AVE 10     10 TO 12   \n",
            "1  2017-01  ANG MO KIO    3 ROOM   108   ANG MO KIO AVE 4     01 TO 03   \n",
            "2  2017-01  ANG MO KIO    3 ROOM   602   ANG MO KIO AVE 5     01 TO 03   \n",
            "3  2017-01  ANG MO KIO    3 ROOM   465  ANG MO KIO AVE 10     04 TO 06   \n",
            "4  2017-01  ANG MO KIO    3 ROOM   601   ANG MO KIO AVE 5     01 TO 03   \n",
            "\n",
            "   floor_area_sqm      flat_model  lease_commence_date     remaining_lease  \\\n",
            "0            44.0        Improved                 1979  61 years 04 months   \n",
            "1            67.0  New Generation                 1978  60 years 07 months   \n",
            "2            67.0  New Generation                 1980  62 years 05 months   \n",
            "3            68.0  New Generation                 1980   62 years 01 month   \n",
            "4            67.0  New Generation                 1980  62 years 05 months   \n",
            "\n",
            "   resale_price  \n",
            "0      232000.0  \n",
            "1      250000.0  \n",
            "2      262000.0  \n",
            "3      265000.0  \n",
            "4      265000.0  \n"
          ]
        }
      ],
      "source": [
        "# Display the cleaned dataset info\n",
        "print(data_cleaned.info())\n",
        "\n",
        "# Display the first few rows of the cleaned data\n",
        "print(data_cleaned.head())\n"
      ]
    },
    {
      "cell_type": "code",
      "execution_count": 13,
      "metadata": {
        "colab": {
          "base_uri": "https://localhost:8080/"
        },
        "id": "AWVN0O2GFHif",
        "outputId": "c8531668-bd61-476d-bb53-c2e5850d8a79"
      },
      "outputs": [
        {
          "name": "stderr",
          "output_type": "stream",
          "text": [
            "C:\\Users\\scryo\\AppData\\Local\\Temp\\ipykernel_2516\\2857105399.py:1: FutureWarning: DataFrame.applymap has been deprecated. Use DataFrame.map instead.\n",
            "  data = data_cleaned.applymap(lambda x: x.strip() if isinstance(x, str) else x)\n"
          ]
        }
      ],
      "source": [
        "data = data_cleaned.applymap(lambda x: x.strip() if isinstance(x, str) else x)"
      ]
    },
    {
      "cell_type": "code",
      "execution_count": 14,
      "metadata": {
        "id": "hYYWSvnrFTmo"
      },
      "outputs": [],
      "source": [
        "data.rename(columns={\n",
        "    'month': 'Month',\n",
        "    'town': 'Town',\n",
        "    'flat_type': 'Flat_Type',\n",
        "    'block': 'Block',\n",
        "    'street_name': 'Street_Name',\n",
        "    'storey_range': 'Storey_Range',\n",
        "    'floor_area_sqm': 'Floor_Area_SQM',\n",
        "    'flat_model': 'Flat_Model',\n",
        "    'lease_commence_date': 'Lease_Commence_Date',\n",
        "    'remaining_lease': 'Remaining_Lease',\n",
        "    'resale_price': 'Resale_Price',\n",
        "\n",
        "}, inplace=True)\n"
      ]
    },
    {
      "cell_type": "code",
      "execution_count": 15,
      "metadata": {
        "id": "K4OwXkVPFcrH"
      },
      "outputs": [],
      "source": [
        "data['Month'] = pd.to_datetime(data['Month'], format='%Y-%m')\n",
        "data['Floor_Area_SQM'] = data['Floor_Area_SQM'].astype(float)\n",
        "data['Flat_Type'] = data['Flat_Type'].str.title()\n"
      ]
    },
    {
      "cell_type": "code",
      "execution_count": 16,
      "metadata": {
        "id": "eZ54Hl1TG3-T"
      },
      "outputs": [],
      "source": [
        "def extract_years(lease):\n",
        "    if isinstance(lease, str) and 'year' in lease:\n",
        "        return int(lease.split(' ')[0])  # Extract the years\n",
        "    return None\n",
        "\n",
        "data['Remaining_Years'] = data['Remaining_Lease'].apply(extract_years)"
      ]
    },
    {
      "cell_type": "code",
      "execution_count": 40,
      "metadata": {
        "id": "5wMZIOQEG7Bu"
      },
      "outputs": [],
      "source": [
        "def average_storey_range(storey):\n",
        "    if isinstance(storey, str) and \"TO\" in storey:\n",
        "        start, end = map(int, storey.split(\" TO \"))\n",
        "        return (start + end) / 2\n",
        "    return None\n",
        "\n",
        "data['Average_Storey'] = data['Storey_Range'].apply(average_storey_range)"
      ]
    },
    {
      "cell_type": "code",
      "execution_count": 17,
      "metadata": {
        "colab": {
          "base_uri": "https://localhost:8080/"
        },
        "id": "QDw1KUZmGYKT",
        "outputId": "51b4172f-0930-4a50-ef8a-8a66c834f768"
      },
      "outputs": [
        {
          "name": "stdout",
          "output_type": "stream",
          "text": [
            "       Month        Town Flat_Type Block        Street_Name Storey_Range  \\\n",
            "0 2017-01-01  ANG MO KIO    2 Room   406  ANG MO KIO AVE 10     10 TO 12   \n",
            "1 2017-01-01  ANG MO KIO    3 Room   108   ANG MO KIO AVE 4     01 TO 03   \n",
            "2 2017-01-01  ANG MO KIO    3 Room   602   ANG MO KIO AVE 5     01 TO 03   \n",
            "3 2017-01-01  ANG MO KIO    3 Room   465  ANG MO KIO AVE 10     04 TO 06   \n",
            "4 2017-01-01  ANG MO KIO    3 Room   601   ANG MO KIO AVE 5     01 TO 03   \n",
            "\n",
            "   Floor_Area_SQM      Flat_Model  Lease_Commence_Date     Remaining_Lease  \\\n",
            "0            44.0        Improved                 1979  61 years 04 months   \n",
            "1            67.0  New Generation                 1978  60 years 07 months   \n",
            "2            67.0  New Generation                 1980  62 years 05 months   \n",
            "3            68.0  New Generation                 1980   62 years 01 month   \n",
            "4            67.0  New Generation                 1980  62 years 05 months   \n",
            "\n",
            "   Resale_Price  Remaining_Years  \n",
            "0      232000.0               61  \n",
            "1      250000.0               60  \n",
            "2      262000.0               62  \n",
            "3      265000.0               62  \n",
            "4      265000.0               62  \n"
          ]
        }
      ],
      "source": [
        "print(data.head())"
      ]
    },
    {
      "cell_type": "code",
      "execution_count": 43,
      "metadata": {
        "id": "aLCM5T3aN0l0"
      },
      "outputs": [],
      "source": [
        "data.to_csv('cleaned_resale_data.csv', index=False)\n"
      ]
    }
  ],
  "metadata": {
    "colab": {
      "provenance": []
    },
    "kernelspec": {
      "display_name": "Python 3",
      "name": "python3"
    },
    "language_info": {
      "codemirror_mode": {
        "name": "ipython",
        "version": 3
      },
      "file_extension": ".py",
      "mimetype": "text/x-python",
      "name": "python",
      "nbconvert_exporter": "python",
      "pygments_lexer": "ipython3",
      "version": "3.9.10"
    }
  },
  "nbformat": 4,
  "nbformat_minor": 0
}
